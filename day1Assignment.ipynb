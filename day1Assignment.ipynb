{
 "cells": [
  {
   "cell_type": "raw",
   "metadata": {},
   "source": [
    "Q1. Given the following jumbled word, OBANWRI guess the correct English word.\n",
    "A. RANIBOW\n",
    "B. RAINBOW\n",
    "C. BOWRANI\n",
    "D. ROBWANI\n\n",
    "\n\n",
    "Ans\n",
    "B. RAINBOW"
   ]
  },
  {
   "cell_type": "markdown",
   "metadata": {},
   "source": [
    "# Q2. Write a program which prints “LETS UPGRADE”. (Please note that you have to print in ALL CAPS as given)"
   ]
  },
  {
   "cell_type": "code",
   "execution_count": 2,
   "metadata": {},
   "outputs": [
    {
     "name": "stdout",
     "output_type": "stream",
     "text": [
      "LETS UPGRADE\n"
     ]
    }
   ],
   "source": [
    "print(\"LETS UPGRADE\")"
   ]
  },
  {
   "cell_type": "markdown",
   "metadata": {},
   "source": [
    "# Q3. Write a program that takes cost price and selling price as input and displays whether the transaction is a Profit or a Loss or Neither."
   ]
  },
  {
   "cell_type": "code",
   "execution_count": 4,
   "metadata": {},
   "outputs": [
    {
     "name": "stdout",
     "output_type": "stream",
     "text": [
      "88\n",
      "90\n",
      "Profit\n"
     ]
    }
   ],
   "source": [
    "#Sample1\n",
    "costPrice = int(input())\n",
    "sellingPrice = int(input())\n",
    "if costPrice > sellingPrice:\n",
    "  print(\"Loss\")\n",
    "elif costPrice < sellingPrice:\n",
    "  print(\"Profit\")\n",
    "else:\n",
    "  print(\"Nor gain, nor loss\")"
   ]
  },
  {
   "cell_type": "code",
   "execution_count": 5,
   "metadata": {},
   "outputs": [
    {
     "name": "stdout",
     "output_type": "stream",
     "text": [
      "98\n",
      "60\n",
      "Loss\n"
     ]
    }
   ],
   "source": [
    "#Sample2\n",
    "costPrice = int(input())\n",
    "sellingPrice = int(input())\n",
    "if costPrice > sellingPrice:\n",
    "  print(\"Loss\")\n",
    "elif costPrice < sellingPrice:\n",
    "  print(\"Profit\")\n",
    "else:\n",
    "  print(\"Nor gain, nor loss\")"
   ]
  },
  {
   "cell_type": "code",
   "execution_count": 6,
   "metadata": {},
   "outputs": [
    {
     "name": "stdout",
     "output_type": "stream",
     "text": [
      "80\n",
      "80\n",
      "Nor gain, nor loss\n"
     ]
    }
   ],
   "source": [
    "#Sample3\n",
    "costPrice = int(input())\n",
    "sellingPrice = int(input())\n",
    "if costPrice > sellingPrice:\n",
    "  print(\"Loss\")\n",
    "elif costPrice < sellingPrice:\n",
    "  print(\"Profit\")\n",
    "else:\n",
    "  print(\"Nor gain, nor loss\")"
   ]
  },
  {
   "cell_type": "markdown",
   "metadata": {},
   "source": [
    "# Q4. Write a program that takes an amount in Euros as input. You need to find its equivalent in Rupees and display it. Assume 1 Euro equals Rs. 80."
   ]
  },
  {
   "cell_type": "code",
   "execution_count": 7,
   "metadata": {},
   "outputs": [
    {
     "name": "stdout",
     "output_type": "stream",
     "text": [
      "20\n",
      "1600 rupees\n"
     ]
    }
   ],
   "source": [
    "euros= int(input())\n",
    "print(euros*80, \"rupees\")"
   ]
  },
  {
   "cell_type": "code",
   "execution_count": 8,
   "metadata": {},
   "outputs": [
    {
     "name": "stdout",
     "output_type": "stream",
     "text": [
      "50\n",
      "4000 rupees\n"
     ]
    }
   ],
   "source": [
    "#testCase2\n",
    "euros= int(input())\n",
    "print(euros*80, \"rupees\")"
   ]
  },
  {
   "cell_type": "code",
   "execution_count": 9,
   "metadata": {},
   "outputs": [
    {
     "name": "stdout",
     "output_type": "stream",
     "text": [
      "72\n",
      "5760 rupees\n"
     ]
    }
   ],
   "source": [
    "#testCase3\n",
    "euros= int(input())\n",
    "print(euros*80, \"rupees\")"
   ]
  },
  {
   "cell_type": "code",
   "execution_count": 10,
   "metadata": {},
   "outputs": [
    {
     "name": "stdout",
     "output_type": "stream",
     "text": [
      "7\n",
      "560 rupees\n"
     ]
    }
   ],
   "source": [
    "#testCase4\n",
    "euros= int(input())\n",
    "print(euros*80, \"rupees\")"
   ]
  },
  {
   "cell_type": "code",
   "execution_count": 11,
   "metadata": {},
   "outputs": [
    {
     "name": "stdout",
     "output_type": "stream",
     "text": [
      "35\n",
      "2800 rupees\n"
     ]
    }
   ],
   "source": [
    "#testCase5\n",
    "euros= int(input())\n",
    "print(euros*80, \"rupees\")"
   ]
  },
  {
   "cell_type": "code",
   "execution_count": 12,
   "metadata": {},
   "outputs": [
    {
     "name": "stdout",
     "output_type": "stream",
     "text": [
      "23\n",
      "1840 rupees\n"
     ]
    }
   ],
   "source": [
    "#testCase6\n",
    "euros= int(input())\n",
    "print(euros*80, \"rupees\")"
   ]
  },
  {
   "cell_type": "code",
   "execution_count": 13,
   "metadata": {},
   "outputs": [
    {
     "name": "stdout",
     "output_type": "stream",
     "text": [
      "95\n",
      "7600 rupees\n"
     ]
    }
   ],
   "source": [
    "#testCase7\n",
    "euros= int(input())\n",
    "print(euros*80, \"rupees\")"
   ]
  },
  {
   "cell_type": "code",
   "execution_count": 14,
   "metadata": {},
   "outputs": [
    {
     "name": "stdout",
     "output_type": "stream",
     "text": [
      "18\n",
      "1440 rupees\n"
     ]
    }
   ],
   "source": [
    "#testCase8\n",
    "euros= int(input())\n",
    "print(euros*80, \"rupees\")"
   ]
  },
  {
   "cell_type": "code",
   "execution_count": null,
   "metadata": {},
   "outputs": [],
   "source": []
  }
 ],
 "metadata": {
  "kernelspec": {
   "display_name": "Python 3",
   "language": "python",
   "name": "python3"
  },
  "language_info": {
   "codemirror_mode": {
    "name": "ipython",
    "version": 3
   },
   "file_extension": ".py",
   "mimetype": "text/x-python",
   "name": "python",
   "nbconvert_exporter": "python",
   "pygments_lexer": "ipython3",
   "version": "3.7.4"
  }
 },
 "nbformat": 4,
 "nbformat_minor": 2
}
